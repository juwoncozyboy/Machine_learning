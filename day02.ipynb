{
  "nbformat": 4,
  "nbformat_minor": 0,
  "metadata": {
    "colab": {
      "provenance": [],
      "authorship_tag": "ABX9TyPsqtc+3XA6ZvQxYzmcbO3e",
      "include_colab_link": true
    },
    "kernelspec": {
      "name": "python3",
      "display_name": "Python 3"
    },
    "language_info": {
      "name": "python"
    }
  },
  "cells": [
    {
      "cell_type": "markdown",
      "metadata": {
        "id": "view-in-github",
        "colab_type": "text"
      },
      "source": [
        "<a href=\"https://colab.research.google.com/github/juwoncozyboy/Machine_learning/blob/main/day02.ipynb\" target=\"_parent\"><img src=\"https://colab.research.google.com/assets/colab-badge.svg\" alt=\"Open In Colab\"/></a>"
      ]
    },
    {
      "cell_type": "code",
      "execution_count": 65,
      "metadata": {
        "colab": {
          "base_uri": "https://localhost:8080/"
        },
        "id": "pD7fm-LuHng8",
        "outputId": "d0ac643f-007c-40b1-c2b2-dfcc798d41a8"
      },
      "outputs": [
        {
          "output_type": "stream",
          "name": "stdout",
          "text": [
            "[1, 2, 3, 4, 'a', 'b'] <class 'list'>\n",
            "3 a <class 'int'> <class 'str'>\n",
            "[1, 2, 3, 4, 'a', 'b', 1, 3, 5, 7]\n",
            "[1, 3, 5, 7, 1, 3, 5, 7, 1, 3, 5, 7]\n"
          ]
        }
      ],
      "source": [
        "lil = [1,2,3,4,'a', 'b']\n",
        "print(lil, type(lil))\n",
        "print(lil[2], lil[4], type(lil[2]), type(lil[4]))\n",
        "\n",
        "li2 = [1,3,5,7]\n",
        "print(lil + li2)\n",
        "print(li2 * 3)"
      ]
    },
    {
      "cell_type": "markdown",
      "source": [
        "# 2) 넘파이 배열구조"
      ],
      "metadata": {
        "id": "mKwBmfJZJfZl"
      }
    },
    {
      "cell_type": "code",
      "source": [
        "import numpy as np\n",
        "\n",
        "#넘파이 배열 만들 때 np.array([])\n",
        "ar1 = np.array([1,2,3,4,'a','b'])\n",
        "print(ar1, type(ar1))\n",
        "print(type(ar1.dtype)) #<U21"
      ],
      "metadata": {
        "colab": {
          "base_uri": "https://localhost:8080/"
        },
        "id": "fC5uG5SDJjm0",
        "outputId": "837fe4e0-5642-49dc-9ae7-5a7e815f0630"
      },
      "execution_count": 66,
      "outputs": [
        {
          "output_type": "stream",
          "name": "stdout",
          "text": [
            "['1' '2' '3' '4' 'a' 'b'] <class 'numpy.ndarray'>\n",
            "<class 'numpy.dtype[str_]'>\n"
          ]
        }
      ]
    },
    {
      "cell_type": "code",
      "source": [
        "#넘파이 연산\n",
        "ar2 = np.array([[1,2], [3,4]])\n",
        "ar3 = np.array([[1,2], [3,4]])\n",
        "print(ar2)\n",
        "print(ar3)\n",
        "print(ar2 + ar3)\n",
        "print(ar2 - ar3)\n",
        "#정수형과 실수형 -> 실수형으로 통일\n",
        "#숫자형과 문자열 -> <U23 문자열로 통일\n",
        "\n",
        "ar4 = np.array([[1,2,3], [4,5]])\n",
        "print(ar4, type(ar4)) # 리스트로 묶여서 출력되는 것 확인, 자료형은 numpy.daarray\n",
        "\n",
        "print(np.__version__)"
      ],
      "metadata": {
        "colab": {
          "base_uri": "https://localhost:8080/"
        },
        "id": "rKXOdEJDJ6yB",
        "outputId": "737abaa3-f65b-42ca-b23a-6ec90f8140f4"
      },
      "execution_count": 67,
      "outputs": [
        {
          "output_type": "stream",
          "name": "stdout",
          "text": [
            "[[1 2]\n",
            " [3 4]]\n",
            "[[1 2]\n",
            " [3 4]]\n",
            "[[2 4]\n",
            " [6 8]]\n",
            "[[0 0]\n",
            " [0 0]]\n",
            "[list([1, 2, 3]) list([4, 5])] <class 'numpy.ndarray'>\n",
            "1.22.4\n"
          ]
        },
        {
          "output_type": "stream",
          "name": "stderr",
          "text": [
            "<ipython-input-67-4fb098366622>:11: VisibleDeprecationWarning: Creating an ndarray from ragged nested sequences (which is a list-or-tuple of lists-or-tuples-or ndarrays with different lengths or shapes) is deprecated. If you meant to do this, you must specify 'dtype=object' when creating the ndarray.\n",
            "  ar4 = np.array([[1,2,3], [4,5]])\n"
          ]
        }
      ]
    },
    {
      "cell_type": "markdown",
      "source": [
        "2) 넘파이 객체의 속성"
      ],
      "metadata": {
        "id": "EIYO-bF1Mard"
      }
    },
    {
      "cell_type": "code",
      "source": [
        "#1차원\n",
        "arr1 = np.array([1.0, 20])\n",
        "print(arr1, type(arr1))\n",
        "print(arr1[0], type(arr1[0]))\n",
        "print(arr1[1])\n",
        "#데이터 타입 확인\n",
        "print(arr1.dtype)\n",
        "\n",
        "#2차원\n",
        "arr2= np.array([[1,2,3],[4,5,6]])\n",
        "print(arr2)\n",
        "\n",
        "#크기 shape\n",
        "print(arr1.shape) #1행 2열\n",
        "print(arr2.shape) #2행 3열\n",
        "\n",
        "#차원 ndim\n",
        "print(arr1.ndim)\n",
        "print(arr2.ndim)\n",
        "\n",
        "#크기 size\n",
        "print(arr1.size)\n",
        "print(arr2.size)\n",
        "\n",
        "#데이터타입 dtype\n",
        "print(arr1.dtype)\n",
        "print(arr2.dtype)"
      ],
      "metadata": {
        "colab": {
          "base_uri": "https://localhost:8080/"
        },
        "id": "xiq_BTCWMdDF",
        "outputId": "bb7a2275-e1c4-4b97-f8a1-209549227c5c"
      },
      "execution_count": 68,
      "outputs": [
        {
          "output_type": "stream",
          "name": "stdout",
          "text": [
            "[ 1. 20.] <class 'numpy.ndarray'>\n",
            "1.0 <class 'numpy.float64'>\n",
            "20.0\n",
            "float64\n",
            "[[1 2 3]\n",
            " [4 5 6]]\n",
            "(2,)\n",
            "(2, 3)\n",
            "1\n",
            "2\n",
            "2\n",
            "6\n",
            "float64\n",
            "int64\n"
          ]
        }
      ]
    },
    {
      "cell_type": "markdown",
      "source": [
        "### 3 넘파이 함수"
      ],
      "metadata": {
        "id": "xYmHyHTXPD6U"
      }
    },
    {
      "cell_type": "code",
      "source": [
        "#넘파이 검색, 수정, 추가, 삭제\n",
        "#검색\n",
        "#1차원\n",
        "print(arr1)\n",
        "print(arr1[1])\n",
        "\n",
        "#2차원\n",
        "print(arr2) #2행 3열\n",
        "print(arr2[0][1]) #0행 1열에 있는 데이터 출력\n",
        "print(arr2[0]) #0행 출력"
      ],
      "metadata": {
        "colab": {
          "base_uri": "https://localhost:8080/"
        },
        "id": "5DkshGXQPH7s",
        "outputId": "d7f206e0-b923-4ac9-b2b6-b93921b7ae9e"
      },
      "execution_count": 69,
      "outputs": [
        {
          "output_type": "stream",
          "name": "stdout",
          "text": [
            "[ 1. 20.]\n",
            "20.0\n",
            "[[1 2 3]\n",
            " [4 5 6]]\n",
            "2\n",
            "[1 2 3]\n"
          ]
        }
      ]
    },
    {
      "cell_type": "code",
      "source": [
        "#수정\n",
        "#리스트\n",
        "li1 = [1, 2, 3]\n",
        "print(li1)\n",
        "li1[0] = 10\n",
        "print(li1)\n",
        "\n",
        "#넘파이 수정\n",
        "print(arr1)\n",
        "print(arr2)\n",
        "arr1[0] = 10 #기존에 있는 값이 변경된 값으로 변수에 재할당됨\n",
        "print(arr1)\n",
        "\n",
        "#2차원\n",
        "arr2[0][2] = 100\n",
        "print(arr2)"
      ],
      "metadata": {
        "colab": {
          "base_uri": "https://localhost:8080/"
        },
        "id": "TldpImTSPue6",
        "outputId": "293455e5-2314-44fa-c1df-e0d1f161b818"
      },
      "execution_count": 70,
      "outputs": [
        {
          "output_type": "stream",
          "name": "stdout",
          "text": [
            "[1, 2, 3]\n",
            "[10, 2, 3]\n",
            "[ 1. 20.]\n",
            "[[1 2 3]\n",
            " [4 5 6]]\n",
            "[10. 20.]\n",
            "[[  1   2 100]\n",
            " [  4   5   6]]\n"
          ]
        }
      ]
    },
    {
      "cell_type": "code",
      "source": [
        "#추가\n",
        "#np.append(배열1, 배열2, 축)\n",
        "arr3 = np.array([[1,2], [3,4]])\n",
        "print(arr3)\n",
        "print(arr3.ndim)\n",
        "\n",
        "#행을 추가\n",
        "arr3 = np.append(arr3, [[1,1]], axis=0)\n",
        "print(arr3)\n",
        "\n",
        "arr4 = np.append(arr3, [[1,1],[2,2],[3,3]], axis = 1)\n",
        "#axis = 1 열이 추가\n",
        "print(arr4)"
      ],
      "metadata": {
        "colab": {
          "base_uri": "https://localhost:8080/"
        },
        "id": "mU965NNsQOOs",
        "outputId": "5e383cfa-d413-47b1-fdfd-adc68fe79e77"
      },
      "execution_count": 71,
      "outputs": [
        {
          "output_type": "stream",
          "name": "stdout",
          "text": [
            "[[1 2]\n",
            " [3 4]]\n",
            "2\n",
            "[[1 2]\n",
            " [3 4]\n",
            " [1 1]]\n",
            "[[1 2 1 1]\n",
            " [3 4 2 2]\n",
            " [1 1 3 3]]\n"
          ]
        }
      ]
    },
    {
      "cell_type": "code",
      "source": [
        "#삭제\n",
        "#np.delete(배열, 인덱스, 축)\n",
        "#2차원 > axis 0행 axis 1열\n",
        "#3차원 > axis 0 높이, axis 1 행, axis 2 열\n",
        "\n",
        "print(arr4)\n",
        "print(np.delete(arr4, 1, axis = 0)) #단순 1회성 삭제\n",
        "print(arr4)"
      ],
      "metadata": {
        "colab": {
          "base_uri": "https://localhost:8080/"
        },
        "id": "qkZZaCJ2RgT8",
        "outputId": "ec2daf35-39d7-42d8-f296-0f7051d5eb0e"
      },
      "execution_count": 72,
      "outputs": [
        {
          "output_type": "stream",
          "name": "stdout",
          "text": [
            "[[1 2 1 1]\n",
            " [3 4 2 2]\n",
            " [1 1 3 3]]\n",
            "[[1 2 1 1]\n",
            " [1 1 3 3]]\n",
            "[[1 2 1 1]\n",
            " [3 4 2 2]\n",
            " [1 1 3 3]]\n"
          ]
        }
      ]
    },
    {
      "cell_type": "code",
      "source": [
        "arr5 = np.array([[1, 2], [3, 4]])\n",
        "arr6 = np.array([[5, 6], [7, 8]])\n",
        "print(np.append(arr5, arr6))\n",
        "print(np.append(arr5, arr6, axis = 0)) #4행 2열\n",
        "print(np.append(arr5, arr6, axis = 1)) #2행 4열"
      ],
      "metadata": {
        "colab": {
          "base_uri": "https://localhost:8080/"
        },
        "id": "8uenHemaUNND",
        "outputId": "36e7cf07-0627-44af-e9e9-16ea22519e8a"
      },
      "execution_count": 73,
      "outputs": [
        {
          "output_type": "stream",
          "name": "stdout",
          "text": [
            "[1 2 3 4 5 6 7 8]\n",
            "[[1 2]\n",
            " [3 4]\n",
            " [5 6]\n",
            " [7 8]]\n",
            "[[1 2 5 6]\n",
            " [3 4 7 8]]\n"
          ]
        }
      ]
    },
    {
      "cell_type": "code",
      "source": [
        "#np.zeros() 모든 값이 0으로만 이루어진 배열만들기\n",
        "#자료형을 기재하지 않으면 실수형으로 만들어짐\n",
        "\n",
        "z1 = np.zeros((2, 5))\n",
        "print(z1, z1.dtype)\n",
        "\n",
        "#int 정수형\n",
        "z2 = np.zeros((2, 5), dtype = 'i')\n",
        "print(z2, z2.dtype)\n",
        "\n",
        "#unit형\n",
        "z3 = np.zeros((2, 5), dtype = 'I')\n",
        "print(z3, z3.dtype)\n",
        "\n",
        "#유니코드\n",
        "z4 = np.zeros((2, 5), dtype = 'U')\n",
        "print(z4, z4.dtype)\n",
        "\n",
        "#bool\n",
        "z5 = np.zeros((2, 5), dtype = '?')\n",
        "print(z5, z5.dtype)"
      ],
      "metadata": {
        "colab": {
          "base_uri": "https://localhost:8080/"
        },
        "id": "29Y5PmaNUzx8",
        "outputId": "f44e8609-4055-4db2-99a9-376795a0d028"
      },
      "execution_count": 74,
      "outputs": [
        {
          "output_type": "stream",
          "name": "stdout",
          "text": [
            "[[0. 0. 0. 0. 0.]\n",
            " [0. 0. 0. 0. 0.]] float64\n",
            "[[0 0 0 0 0]\n",
            " [0 0 0 0 0]] int32\n",
            "[[0 0 0 0 0]\n",
            " [0 0 0 0 0]] uint32\n",
            "[['' '' '' '' '']\n",
            " ['' '' '' '' '']] <U1\n",
            "[[False False False False False]\n",
            " [False False False False False]] bool\n"
          ]
        }
      ]
    },
    {
      "cell_type": "code",
      "source": [
        "#np.ones() 모든 값이 1로 이루어진 배열 만들기\n",
        "o1 = np.ones((2, 5))\n",
        "print(o1, o1.dtype)\n",
        "\n",
        "o2 = np.ones((2, 5), dtype = 'i')\n",
        "print(o2, o2.dtype)\n",
        "\n",
        "o3 = np.ones((2, 5), dtype = '?')\n",
        "print(o3, o3.dtype)"
      ],
      "metadata": {
        "colab": {
          "base_uri": "https://localhost:8080/"
        },
        "id": "4JehQ5ENV9Pm",
        "outputId": "458dbaca-19a4-420e-eccc-c11e7d173a33"
      },
      "execution_count": 75,
      "outputs": [
        {
          "output_type": "stream",
          "name": "stdout",
          "text": [
            "[[1. 1. 1. 1. 1.]\n",
            " [1. 1. 1. 1. 1.]] float64\n",
            "[[1 1 1 1 1]\n",
            " [1 1 1 1 1]] int32\n",
            "[[ True  True  True  True  True]\n",
            " [ True  True  True  True  True]] bool\n"
          ]
        }
      ]
    },
    {
      "cell_type": "code",
      "source": [
        "#np.arange() 연속된 정수로 배열만들기(실수도 가능)\n",
        "#arange(시작값, 종료값, 스텝값)\n",
        "\n",
        "arr1 = np.arange(1, 10, 2)\n",
        "print(arr1, arr1.dtype)\n",
        "\n",
        "arr2 = np.arange(1, 10, 2, dtype = 'f')\n",
        "print(arr2, arr2.dtype)\n",
        "\n",
        "arr3 = np.arange(1, 10, 2.5)    #np의 arange()함수는 실수형 가능\n",
        "print(arr3, arr3.dtype)\n",
        "\n",
        "# li1 = list(range(1, 10, 2.5)) #range()함수는 실수형 불가\n",
        "# print(li1, type(li1))"
      ],
      "metadata": {
        "colab": {
          "base_uri": "https://localhost:8080/"
        },
        "id": "WN_etTh_WS4M",
        "outputId": "7c1ab590-e34d-41e5-b442-c66469f66deb"
      },
      "execution_count": 76,
      "outputs": [
        {
          "output_type": "stream",
          "name": "stdout",
          "text": [
            "[1 3 5 7 9] int64\n",
            "[1. 3. 5. 7. 9.] float32\n",
            "[1.  3.5 6.  8.5] float64\n"
          ]
        }
      ]
    },
    {
      "cell_type": "code",
      "source": [
        "#transpose()\n",
        "#2행 3열 np 배열 만들기 1, 2,3 4,5,6\n",
        "t1 = np.array([[1, 2, 3], [4, 5, 6]])\n",
        "print(t1, t1.dtype)\n",
        "\n",
        "#0행 1열의 값\n",
        "print(t1[0][1])\n",
        "print(t1[1][0])\n",
        "\n",
        "#3행 2열로 바꾸기\n",
        "t2 = t1.transpose()\n",
        "print(t2)\n",
        "\n",
        "t3 = t2.T\n",
        "print(t3)"
      ],
      "metadata": {
        "colab": {
          "base_uri": "https://localhost:8080/"
        },
        "id": "rs0NPsB-XJis",
        "outputId": "d8eab3f9-03d1-4d1f-fcec-e5df685775f3"
      },
      "execution_count": 77,
      "outputs": [
        {
          "output_type": "stream",
          "name": "stdout",
          "text": [
            "[[1 2 3]\n",
            " [4 5 6]] int64\n",
            "2\n",
            "4\n",
            "[[1 4]\n",
            " [2 5]\n",
            " [3 6]]\n",
            "[[1 2 3]\n",
            " [4 5 6]]\n"
          ]
        }
      ]
    },
    {
      "cell_type": "code",
      "source": [
        "#2행 2열\n",
        "#ar1 = 10, 20] 30 40\n",
        "#ar2 = 1, 2] [3, 4]\n",
        "\n",
        "#dtype, ndim, shape, size\n",
        "# + - * /\n",
        "\n",
        "ar1 = np.array([[10, 20], [30, 40]])\n",
        "ar2 = np.array([[1, 2] ,[3, 4]])\n",
        "\n",
        "print(ar1.dtype)\n",
        "print(ar2.dtype)\n",
        "print(ar1.ndim)\n",
        "print(ar2.ndim)\n",
        "print(ar1.shape)\n",
        "print(ar2.shape)\n",
        "print(ar1.size)\n",
        "print(ar2.size)\n",
        "\n",
        "print(f\"ar1 + ar2 = \")\n"
      ],
      "metadata": {
        "colab": {
          "base_uri": "https://localhost:8080/"
        },
        "id": "Br6LqOLvYWCT",
        "outputId": "3f185f28-ddac-4f3b-8fdc-c65c9ac0bbdd"
      },
      "execution_count": 78,
      "outputs": [
        {
          "output_type": "stream",
          "name": "stdout",
          "text": [
            "int64\n",
            "int64\n",
            "2\n",
            "2\n",
            "(2, 2)\n",
            "(2, 2)\n",
            "4\n",
            "4\n",
            "ar1 + ar2 = \n"
          ]
        }
      ]
    },
    {
      "cell_type": "code",
      "source": [
        "#브로드캐스팅기능 : 크기가 서로 다른 배열끼리 사칙연산을 가능하게 함\n",
        "\n",
        "arr1 = np.array([1, 2, 3])\n",
        "arr2 = np.array([3, 4, 5])\n",
        "print(arr1 + arr2)\n",
        "\n",
        "arr3 = np.array([5])\n",
        "print(arr1.shape, arr3.shape)\n",
        "print(arr1 + arr3) #행이 같고 열이 다름(계산가능)\n",
        "\n",
        "arr4 = np.array([[1, 2, 3], [4, 5, 6]])\n",
        "print(arr1.shape)\n",
        "print(arr4.shape)\n",
        "print(arr1 + arr4) #1차원과 2차원 행이 다르고 열이 같음(계산가능)\n",
        "arr1 = np.array([1, 2, 3])\n",
        "\n",
        "arr5 = np.array([[10], [20]])\n",
        "print(arr5.shape)\n",
        "print(arr5)\n",
        "print(arr4, arr4.shape)\n",
        "print(arr4 + arr5)"
      ],
      "metadata": {
        "colab": {
          "base_uri": "https://localhost:8080/"
        },
        "id": "L6ewo4WuZmQV",
        "outputId": "b41eb396-4c47-4646-988c-8f60f1f65241"
      },
      "execution_count": 79,
      "outputs": [
        {
          "output_type": "stream",
          "name": "stdout",
          "text": [
            "[4 6 8]\n",
            "(3,) (1,)\n",
            "[6 7 8]\n",
            "(3,)\n",
            "(2, 3)\n",
            "[[2 4 6]\n",
            " [5 7 9]]\n",
            "(2, 1)\n",
            "[[10]\n",
            " [20]]\n",
            "[[1 2 3]\n",
            " [4 5 6]] (2, 3)\n",
            "[[11 12 13]\n",
            " [24 25 26]]\n"
          ]
        }
      ]
    },
    {
      "cell_type": "code",
      "source": [
        "#[실습]\n",
        "#arr1은 2차원 배열 크기 2,4\n",
        "#arr2은 1차원 배열 크기 4\n",
        "\n",
        "#요소별 덧셈과 곱셈 수행 후 출력\n",
        "arr1 = np.array([[1,2,3,4],[5,6,7,8]])\n",
        "print(arr1.shape, arr1.ndim, arr1.dtype, arr1.size)\n",
        "arr2 = np.array([2,4,6,8])\n",
        "print(arr2.shape, arr2.ndim, arr2.dtype, arr2.size)\n",
        "\n",
        "print(arr1 + arr2)\n",
        "print(arr1 * arr2)\n"
      ],
      "metadata": {
        "colab": {
          "base_uri": "https://localhost:8080/"
        },
        "id": "zyKdhMTebLtb",
        "outputId": "74bf8de1-096a-4749-cfe9-2073d1424e88"
      },
      "execution_count": 80,
      "outputs": [
        {
          "output_type": "stream",
          "name": "stdout",
          "text": [
            "(2, 4) 2 int64 8\n",
            "(4,) 1 int64 4\n",
            "[[ 3  6  9 12]\n",
            " [ 7 10 13 16]]\n",
            "[[ 2  8 18 32]\n",
            " [10 24 42 64]]\n"
          ]
        }
      ]
    },
    {
      "cell_type": "code",
      "source": [
        "arr1 = np.array([[1, 2, 3]])\n",
        "print(arr1, arr1.dtype, arr1.shape, arr1.ndim)\n",
        "arr2 = np.array([4, 5, 6])\n",
        "#arr1을 2차원 배열로 확장해서 크기를 (1, 3)만든 상태로\n",
        "#arr1에 arr2를 추가하고(append 행에 추가)\n",
        "#arr1 + arr2 결과출력\n",
        "\n",
        "print(arr2, arr2.dtype, arr2.shape, arr2.ndim)\n",
        "arr1 = np.append(arr1, [arr2], axis = 0)\n",
        "print(arr1)\n",
        "print(arr1 + arr2)"
      ],
      "metadata": {
        "colab": {
          "base_uri": "https://localhost:8080/"
        },
        "id": "Ok6R1Ct6b_uh",
        "outputId": "4ba9b288-c6b9-42ed-9f26-6ef45f484d48"
      },
      "execution_count": 81,
      "outputs": [
        {
          "output_type": "stream",
          "name": "stdout",
          "text": [
            "[[1 2 3]] int64 (1, 3) 2\n",
            "[4 5 6] int64 (3,) 1\n",
            "[[1 2 3]\n",
            " [4 5 6]]\n",
            "[[ 5  7  9]\n",
            " [ 8 10 12]]\n"
          ]
        }
      ]
    },
    {
      "cell_type": "markdown",
      "source": [
        "#5. 시리즈(Series)\n"
      ],
      "metadata": {
        "id": "jiOVrmoMioQK"
      }
    },
    {
      "cell_type": "code",
      "source": [
        "import pandas as pd\n",
        "s = pd.Series(['AI', 2023, 7, 16], index = ['a', 'b', 'c', 'd'],\n",
        "              name = 'test')\n",
        "print(s)"
      ],
      "metadata": {
        "colab": {
          "base_uri": "https://localhost:8080/"
        },
        "id": "AmZnhJzEjOZD",
        "outputId": "88e8a6a1-f44c-4e20-bc5d-07b6c94c4491"
      },
      "execution_count": 82,
      "outputs": [
        {
          "output_type": "stream",
          "name": "stdout",
          "text": [
            "a      AI\n",
            "b    2023\n",
            "c       7\n",
            "d      16\n",
            "Name: test, dtype: object\n"
          ]
        }
      ]
    },
    {
      "cell_type": "markdown",
      "source": [
        "2) 딕셔너리 -> 시리즈 변환"
      ],
      "metadata": {
        "id": "ofXBHTMRj-yJ"
      }
    },
    {
      "cell_type": "code",
      "source": [
        "student = {'math': 90, 'english': 90, 'korean': 100, 'his':88}\n",
        "print(student, type(student))\n",
        "print(student.values())\n",
        "print(student.keys())\n",
        "print(student.items())\n",
        "\n",
        "#딕셔너리 -> 시리즈 변환\n",
        "s_student = pd.Series(student, name = \"scoer\")\n",
        "print(s_student)\n",
        "\n",
        "s_student = pd.Series(student, index = ['a', 'b', 'c', 'd'])\n",
        "print(s_student)"
      ],
      "metadata": {
        "colab": {
          "base_uri": "https://localhost:8080/"
        },
        "id": "g40CZhhxkEfJ",
        "outputId": "eed2bc76-370c-4eaa-cfe9-b00bdfb1e4fb"
      },
      "execution_count": 83,
      "outputs": [
        {
          "output_type": "stream",
          "name": "stdout",
          "text": [
            "{'math': 90, 'english': 90, 'korean': 100, 'his': 88} <class 'dict'>\n",
            "dict_values([90, 90, 100, 88])\n",
            "dict_keys(['math', 'english', 'korean', 'his'])\n",
            "dict_items([('math', 90), ('english', 90), ('korean', 100), ('his', 88)])\n",
            "math        90\n",
            "english     90\n",
            "korean     100\n",
            "his         88\n",
            "Name: scoer, dtype: int64\n",
            "a   NaN\n",
            "b   NaN\n",
            "c   NaN\n",
            "d   NaN\n",
            "dtype: float64\n"
          ]
        }
      ]
    },
    {
      "cell_type": "markdown",
      "source": [
        "##3) 리스트, 튜플 -> 시리즈로 변환"
      ],
      "metadata": {
        "id": "NOiQ2dRUlgAC"
      }
    },
    {
      "cell_type": "code",
      "source": [
        "num = [1, 2, 3, 4, 5]\n",
        "s_num = pd.Series(num, index = ['one', 'two', 'three', 'four', 'five'])\n",
        "print(s_num)\n",
        "\n",
        "#인덱스만 출력\n",
        "print(s_num.index)\n",
        "#값만 출력\n",
        "print(s_num.values)\n",
        "#타입\n",
        "print(s_num.dtype)"
      ],
      "metadata": {
        "colab": {
          "base_uri": "https://localhost:8080/"
        },
        "id": "PjPIn9v4lkXi",
        "outputId": "6fe5ee65-3565-415a-a64a-6f8c62bb236a"
      },
      "execution_count": 84,
      "outputs": [
        {
          "output_type": "stream",
          "name": "stdout",
          "text": [
            "one      1\n",
            "two      2\n",
            "three    3\n",
            "four     4\n",
            "five     5\n",
            "dtype: int64\n",
            "Index(['one', 'two', 'three', 'four', 'five'], dtype='object')\n",
            "[1 2 3 4 5]\n",
            "int64\n"
          ]
        }
      ]
    },
    {
      "cell_type": "code",
      "source": [
        "data = 'python', '20230716', True\n",
        "print(data, type(data))\n",
        "\n",
        "s_data = pd.Series(data, index = ['과목', '날짜', '강의수강여부'])\n",
        "print(s_data)\n",
        "\n",
        "#원소 선택(2가지 방법)\n",
        "#방법1 : 정수형 위치 인덱스를 사용 => 리스트와 같은 원리\n",
        "print(s_data[0])\n",
        "\n",
        "#방법2 : 인덱스 이름(라벨)를 사용 -> 딕셔너리와 같은 원리\n",
        "print(s_data['과목'])\n",
        "\n",
        "#여러값을 인덱싱\n",
        "print(s_data[[1,2]]) #인덱스를 이용할 때는 대괄호 2개 사용\n",
        "#인덱스 리스트 [1,2]를 사용해서 해당 정수 인덱스에 해당하는 값을 선택\n",
        "\n",
        "print(s_data[1:]) #슬라이싱으로 인덱싱 할 때는 대괄호를 하나만 사용\n",
        "\n",
        "print(s_data[['날짜', '강의수강여부']])\n",
        "# 레이블인덱스 리스트 ['날짜' , '강의수강여부']를 사용해서\n",
        "# 해당하는 레이블 인덱스에 해당하는 값들을 선택"
      ],
      "metadata": {
        "colab": {
          "base_uri": "https://localhost:8080/"
        },
        "id": "eUp-atTdmNfD",
        "outputId": "9b254c01-a293-4995-e81a-f923206c1b73"
      },
      "execution_count": 85,
      "outputs": [
        {
          "output_type": "stream",
          "name": "stdout",
          "text": [
            "('python', '20230716', True) <class 'tuple'>\n",
            "과목          python\n",
            "날짜        20230716\n",
            "강의수강여부        True\n",
            "dtype: object\n",
            "python\n",
            "python\n",
            "날짜        20230716\n",
            "강의수강여부        True\n",
            "dtype: object\n",
            "날짜        20230716\n",
            "강의수강여부        True\n",
            "dtype: object\n",
            "날짜        20230716\n",
            "강의수강여부        True\n",
            "dtype: object\n"
          ]
        }
      ]
    },
    {
      "cell_type": "markdown",
      "source": [
        "##4) 시리즈-> 딕셔너리 또는 리스트 변환"
      ],
      "metadata": {
        "id": "o5h4xqSPoUHy"
      }
    },
    {
      "cell_type": "code",
      "source": [
        "s_student = pd.Series(student, name = \"score\")\n",
        "print(s_student)\n",
        "\n",
        "#시리즈 -> 리스트 변환 시 list() 형변환 이용\n",
        "li = list(s_student)\n",
        "print(li)\n",
        "\n",
        "#시리즈 -> 딕셔너리 변환시 dict() 형변환\n",
        "print(s_num)\n",
        "di = dict(s_num)\n",
        "print(di)"
      ],
      "metadata": {
        "colab": {
          "base_uri": "https://localhost:8080/"
        },
        "id": "ZcfrYPr1oZJy",
        "outputId": "6064e5c3-9d1b-4d78-b724-8d4f4fb681cb"
      },
      "execution_count": 87,
      "outputs": [
        {
          "output_type": "stream",
          "name": "stdout",
          "text": [
            "math        90\n",
            "english     90\n",
            "korean     100\n",
            "his         88\n",
            "Name: score, dtype: int64\n",
            "[90, 90, 100, 88]\n",
            "one      1\n",
            "two      2\n",
            "three    3\n",
            "four     4\n",
            "five     5\n",
            "dtype: int64\n",
            "{'one': 1, 'two': 2, 'three': 3, 'four': 4, 'five': 5}\n"
          ]
        }
      ]
    },
    {
      "cell_type": "markdown",
      "source": [
        "##5) 시리즈 값 수정, 추가, 삭제"
      ],
      "metadata": {
        "id": "Db1WJdnKqN76"
      }
    },
    {
      "cell_type": "code",
      "source": [
        "#시리즈 이름 부여(변경)\n",
        "print(s_student)\n",
        "\n",
        "s_student.name = '성적'\n",
        "print(s_student)\n",
        "\n",
        "#시리즈 인덱스 수정\n",
        "s_student.rename({'english':'eng'})\n",
        "#inplace 속성값을 주지 않으면 원본에 영향을 미치지 않음\n",
        "print(s_student)\n",
        "\n",
        "s_student.rename({'english':'eng'}, inplace = True)\n",
        "print(s_student)\n",
        "\n",
        "s_student.rename({'korean' : 'kor'})\n",
        "print(s_student)"
      ],
      "metadata": {
        "colab": {
          "base_uri": "https://localhost:8080/"
        },
        "id": "CnFNQGfpqKB6",
        "outputId": "f5472f6f-300c-40f6-ab2e-de9447fd44ab"
      },
      "execution_count": 89,
      "outputs": [
        {
          "output_type": "stream",
          "name": "stdout",
          "text": [
            "math       90\n",
            "eng        90\n",
            "korean    100\n",
            "his        88\n",
            "Name: 성적, dtype: int64\n",
            "math       90\n",
            "eng        90\n",
            "korean    100\n",
            "his        88\n",
            "Name: 성적, dtype: int64\n",
            "math       90\n",
            "eng        90\n",
            "korean    100\n",
            "his        88\n",
            "Name: 성적, dtype: int64\n",
            "math       90\n",
            "eng        90\n",
            "korean    100\n",
            "his        88\n",
            "Name: 성적, dtype: int64\n",
            "math       90\n",
            "eng        90\n",
            "korean    100\n",
            "his        88\n",
            "Name: 성적, dtype: int64\n"
          ]
        }
      ]
    },
    {
      "cell_type": "code",
      "source": [
        "#시리즈값 찾기\n",
        "print(s_student)\n",
        "print(s_student['math'])\n",
        "print(s_student[0])"
      ],
      "metadata": {
        "colab": {
          "base_uri": "https://localhost:8080/"
        },
        "id": "XHWcFuMyxu2R",
        "outputId": "557f4f61-c31d-4011-fb2f-e01768f4c707"
      },
      "execution_count": 94,
      "outputs": [
        {
          "output_type": "stream",
          "name": "stdout",
          "text": [
            "math       90\n",
            "eng        90\n",
            "korean    100\n",
            "his        88\n",
            "Name: 성적, dtype: int64\n",
            "90\n",
            "90\n"
          ]
        }
      ]
    },
    {
      "cell_type": "code",
      "source": [
        "#값 수정\n",
        "#key(인덱스 레이블) 사용하여 특정 값 수정하기\n",
        "s = pd.Series([10, 20, 30, 40, 50], index = ['A', 'B', 'C', 'D', 'E'])\n",
        "print(s)\n",
        "\n",
        "s['B'] = 25\n",
        "print(s)\n",
        "\n",
        "#인덱스(위치)를 사용하여 값 변경\n",
        "s[1] = 20\n",
        "print(s)\n",
        "\n",
        "#인덱스이름 수정\n",
        "s.rename(index = {'A':'Apple', 'B':'Banana', 'C':'Cerry'}, inplace = True)\n",
        "print(s)\n",
        "\n",
        "new_index = ['A', 'B', 'C', 'd', 'e']\n",
        "s.set_axis(new_index, inplace=True)\n",
        "print(s)\n"
      ],
      "metadata": {
        "colab": {
          "base_uri": "https://localhost:8080/"
        },
        "id": "vJMpvYv3yfeg",
        "outputId": "c01d8e40-3aa5-4ae7-bed4-7dbbf7cdc9c6"
      },
      "execution_count": 101,
      "outputs": [
        {
          "output_type": "stream",
          "name": "stdout",
          "text": [
            "A    10\n",
            "B    20\n",
            "C    30\n",
            "D    40\n",
            "E    50\n",
            "dtype: int64\n",
            "A    10\n",
            "B    25\n",
            "C    30\n",
            "D    40\n",
            "E    50\n",
            "dtype: int64\n",
            "A    10\n",
            "B    20\n",
            "C    30\n",
            "D    40\n",
            "E    50\n",
            "dtype: int64\n",
            "Apple     10\n",
            "Banana    20\n",
            "Cerry     30\n",
            "D         40\n",
            "E         50\n",
            "dtype: int64\n",
            "A    10\n",
            "B    20\n",
            "C    30\n",
            "d    40\n",
            "e    50\n",
            "dtype: int64\n"
          ]
        },
        {
          "output_type": "stream",
          "name": "stderr",
          "text": [
            "<ipython-input-101-1b6d1b8f3e95>:18: FutureWarning: Series.set_axis 'inplace' keyword is deprecated and will be removed in a future version. Use `obj = obj.set_axis(..., copy=False)` instead\n",
            "  s.set_axis(new_index, inplace=True)\n"
          ]
        }
      ]
    },
    {
      "cell_type": "code",
      "source": [
        "di_data = {'서울':1, '경기':2, '강원':3}\n",
        "li_data = [2023, 07.16, 'AI', 100, True]\n",
        "\n",
        "s1 = pd.Series(di_data)\n",
        "s2 = pd.Series(li_data)\n",
        "print(s1)\n",
        "print(s2)\n",
        "\n",
        "#1. s1, s2의 인덱스변경 rename 이용\n",
        "# s1 => 'A', 'B', 'C'\n",
        "# s2 => 'x', 'y', 'z', 'w', 'v'\n",
        "s1.rename(index={'서울':'A'}, inplace = True)\n",
        "s2.rename(index={0:'x'}, inplace = True)\n",
        "print(s1)\n",
        "print(s2)\n",
        "\n",
        "#2. s1의 값변경 A의 값 10\n",
        "#   s2의 값 변경 2023 2024\n",
        "s1['A'] = 10\n",
        "s2['x'] = 2024\n",
        "print(s1)\n",
        "print(s2)\n",
        "\n",
        "\n",
        "# +) rename이용하지 않고 인덱스 변경(.index 이용)\n",
        "# s1 => a, b, c,\n",
        "s1.index = ['a', 'b', 'c']\n",
        "print(s1)\n",
        "# s2 => X, Y, Z, I, J\n",
        "s2.index = ['X', 'Y', 'Z', 'I', 'J']\n",
        "print(s2)"
      ],
      "metadata": {
        "colab": {
          "base_uri": "https://localhost:8080/"
        },
        "id": "Dq1LAIi70HE3",
        "outputId": "1deddeb9-9a7a-49c7-8d90-d0d650f21c33"
      },
      "execution_count": 115,
      "outputs": [
        {
          "output_type": "stream",
          "name": "stdout",
          "text": [
            "서울    1\n",
            "경기    2\n",
            "강원    3\n",
            "dtype: int64\n",
            "0    2023\n",
            "1    7.16\n",
            "2      AI\n",
            "3     100\n",
            "4    True\n",
            "dtype: object\n",
            "A     1\n",
            "경기    2\n",
            "강원    3\n",
            "dtype: int64\n",
            "x    2023\n",
            "1    7.16\n",
            "2      AI\n",
            "3     100\n",
            "4    True\n",
            "dtype: object\n",
            "A     10\n",
            "경기     2\n",
            "강원     3\n",
            "dtype: int64\n",
            "x    2024\n",
            "1    7.16\n",
            "2      AI\n",
            "3     100\n",
            "4    True\n",
            "dtype: object\n",
            "a    10\n",
            "b     2\n",
            "c     3\n",
            "dtype: int64\n",
            "X    2024\n",
            "Y    7.16\n",
            "Z      AI\n",
            "I     100\n",
            "J    True\n",
            "dtype: object\n"
          ]
        }
      ]
    },
    {
      "cell_type": "code",
      "source": [
        "#값 추가\n",
        "#방법1) append()\n",
        "s1 = s1.append(pd.Series({'인천' : 5}))\n",
        "print(s1)\n",
        "s2 = s2.append(pd.Series([2000, 2001]))\n",
        "print(s2)\n",
        "#방법2) 인덱스를 확장해서 값 추가\n",
        "\n",
        "print(s2)\n",
        "\n",
        "s1['d'] = 4\n",
        "print(s1)\n",
        "s2['A'] = 5.11\n",
        "print(s2)"
      ],
      "metadata": {
        "colab": {
          "base_uri": "https://localhost:8080/"
        },
        "id": "oxU48kD_3CMQ",
        "outputId": "7a6c6f31-18a0-4e09-a614-bccc5e2fb7f2"
      },
      "execution_count": 120,
      "outputs": [
        {
          "output_type": "stream",
          "name": "stdout",
          "text": [
            "a     10\n",
            "b      2\n",
            "c      3\n",
            "d      4\n",
            "인천     5\n",
            "인천     5\n",
            "dtype: int64\n",
            "X    2024\n",
            "Y    7.16\n",
            "Z      AI\n",
            "I     100\n",
            "J    True\n",
            "A    5.11\n",
            "0    2000\n",
            "1    2001\n",
            "dtype: object\n",
            "X    2024\n",
            "Y    7.16\n",
            "Z      AI\n",
            "I     100\n",
            "J    True\n",
            "A    5.11\n",
            "0    2000\n",
            "1    2001\n",
            "dtype: object\n",
            "a     10\n",
            "b      2\n",
            "c      3\n",
            "d      4\n",
            "인천     5\n",
            "인천     5\n",
            "dtype: int64\n",
            "X    2024\n",
            "Y    7.16\n",
            "Z      AI\n",
            "I     100\n",
            "J    True\n",
            "A    5.11\n",
            "0    2000\n",
            "1    2001\n",
            "dtype: object\n"
          ]
        },
        {
          "output_type": "stream",
          "name": "stderr",
          "text": [
            "<ipython-input-120-77dd497ed364>:3: FutureWarning: The series.append method is deprecated and will be removed from pandas in a future version. Use pandas.concat instead.\n",
            "  s1 = s1.append(pd.Series({'인천' : 5}))\n",
            "<ipython-input-120-77dd497ed364>:5: FutureWarning: The series.append method is deprecated and will be removed from pandas in a future version. Use pandas.concat instead.\n",
            "  s2 = s2.append(pd.Series([2000, 2001]))\n"
          ]
        }
      ]
    },
    {
      "cell_type": "code",
      "source": [
        "#삭제\n",
        "print(s1)\n",
        "print(s2)\n",
        "\n",
        "#1) drop 이용\n",
        "# s1 = s1.drop('인천')\n",
        "# print(s1)\n",
        "# s2 = s2.drop(0)\n",
        "# print(s2)\n",
        "\n",
        "#2) del 키워드 이용\n",
        "# del s1['a']\n",
        "# print(s1)\n",
        "\n",
        "# del s2['A']\n",
        "print(s2)\n",
        "\n",
        "#3) pop 이용\n",
        "s2.pop('I')\n",
        "print(s2)"
      ],
      "metadata": {
        "colab": {
          "base_uri": "https://localhost:8080/"
        },
        "id": "_hoLkyeG4B7I",
        "outputId": "1459485e-5e4f-407d-c3c8-c1620bffa4dc"
      },
      "execution_count": 133,
      "outputs": [
        {
          "output_type": "stream",
          "name": "stdout",
          "text": [
            "X    2024\n",
            "Y    7.16\n",
            "Z      AI\n",
            "J    True\n",
            "0    2000\n",
            "1    2001\n",
            "dtype: object\n"
          ]
        }
      ]
    }
  ]
}